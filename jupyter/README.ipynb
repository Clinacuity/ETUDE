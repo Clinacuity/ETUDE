{
 "cells": [
  {
   "cell_type": "code",
   "execution_count": 11,
   "metadata": {},
   "outputs": [],
   "source": [
    "from __future__ import print_function\n",
    "\n",
    "import sys\n",
    "if sys.version_info[0] < 3: \n",
    "    from StringIO import StringIO\n",
    "else:\n",
    "    from io import StringIO\n",
    "\n",
    "from os import chdir\n",
    "chdir( '../' )"
   ]
  },
  {
   "cell_type": "markdown",
   "metadata": {},
   "source": [
    "Sample Runs\n",
    "=========\n",
    "\n",
    "Basic Run\n",
    "--------\n",
    "The simplest test run requires that we specify a reference directory and a\n",
    "test directory.  The default file matching assumes that our reference and\n",
    "test files match names exactly and both end in '.xml'.  With just the\n",
    "two directory arguments, we get micro-average scores for the default\n",
    "metrics across the full directory.  "
   ]
  },
  {
   "cell_type": "code",
   "execution_count": 12,
   "metadata": {},
   "outputs": [
    {
     "name": "stdout",
     "output_type": "stream",
     "text": [
      "100% (10 of 10) |##########################| Elapsed Time: 0:00:01 Time: 0:00:01\n",
      "\n",
      "exact\tTP\tFP\tTN\tFN\n",
      "micro-average\t340.0\t8.0\t0.0\t105.0\n"
     ]
    }
   ],
   "source": [
    "!python etude.py \\\n",
    "    --reference-input tests/data/i2b2_2016_track-1_reference \\\n",
    "    --test-input tests/data/i2b2_2016_track-1_test\n"
   ]
  },
  {
   "cell_type": "markdown",
   "metadata": {},
   "source": [
    "In the next sample runs, you can see how to include a per-file score breakdown and a per-annotation-type score breakdown."
   ]
  },
  {
   "cell_type": "code",
   "execution_count": 14,
   "metadata": {},
   "outputs": [
    {
     "name": "stdout",
     "output_type": "stream",
     "text": [
      "100% (10 of 10) |##########################| Elapsed Time: 0:00:01 Time: 0:00:01\n",
      "\n",
      "exact\tTP\tFP\tTN\tFN\n",
      "micro-average\t340.0\t8.0\t0.0\t105.0\n",
      "0005_gs.xml\t31.0\t0.0\t0.0\t0.0\n",
      "0016_gs.xml\t21.0\t0.0\t0.0\t30.0\n",
      "0267_gs.xml\t27.0\t0.0\t0.0\t32.0\n",
      "0273_gs.xml\t0.0\t0.0\t0.0\t35.0\n",
      "0389_gs.xml\t26.0\t8.0\t0.0\t8.0\n",
      "0475_gs.xml\t45.0\t0.0\t0.0\t0.0\n",
      "0617_gs.xml\t32.0\t0.0\t0.0\t0.0\n",
      "0709_gs.xml\t41.0\t0.0\t0.0\t0.0\n",
      "0982_gs.xml\t95.0\t0.0\t0.0\t0.0\n",
      "0992_gs.xml\t22.0\t0.0\t0.0\t0.0\n"
     ]
    }
   ],
   "source": [
    "!python etude.py \\\n",
    "    --reference-input tests/data/i2b2_2016_track-1_reference \\\n",
    "    --test-input tests/data/i2b2_2016_track-1_test \\\n",
    "    --by-file"
   ]
  },
  {
   "cell_type": "code",
   "execution_count": 15,
   "metadata": {},
   "outputs": [
    {
     "name": "stdout",
     "output_type": "stream",
     "text": [
      "100% (10 of 10) |##########################| Elapsed Time: 0:00:01 Time: 0:00:01\n",
      "\n",
      "exact\tTP\tFP\tTN\tFN\n",
      "micro-average\t340.0\t8.0\t0.0\t105.0\n",
      "Age\t63.0\t2.0\t0.0\t29.0\n",
      "DateTime\t91.0\t2.0\t0.0\t33.0\n",
      "HCUnit\t61.0\t4.0\t0.0\t15.0\n",
      "OtherID\t7.0\t0.0\t0.0\t0.0\n",
      "OtherLoc\t1.0\t0.0\t0.0\t4.0\n",
      "OtherOrg\t18.0\t0.0\t0.0\t3.0\n",
      "Patient\t16.0\t0.0\t0.0\t3.0\n",
      "PhoneFax\t5.0\t0.0\t0.0\t1.0\n",
      "Provider\t54.0\t0.0\t0.0\t10.0\n",
      "StateCountry\t14.0\t0.0\t0.0\t7.0\n",
      "StreetCity\t4.0\t0.0\t0.0\t0.0\n",
      "Zip\t4.0\t0.0\t0.0\t0.0\n",
      "eAddress\t2.0\t0.0\t0.0\t0.0\n"
     ]
    }
   ],
   "source": [
    "!python etude.py \\\n",
    "    --reference-input tests/data/i2b2_2016_track-1_reference \\\n",
    "    --test-input tests/data/i2b2_2016_track-1_test \\\n",
    "    --by-type"
   ]
  },
  {
   "cell_type": "markdown",
   "metadata": {},
   "source": [
    "Scoring on Different Fields\n",
    "-----------------------\n",
    "\n",
    "The above examples show scoring based on the default key in the\n",
    "configuration file used for matching the reference to the test\n",
    "configuration.  You may wish to group annotations on different fields,\n",
    "such as the parent class or long description.\n"
   ]
  },
  {
   "cell_type": "code",
   "execution_count": 16,
   "metadata": {},
   "outputs": [
    {
     "name": "stdout",
     "output_type": "stream",
     "text": [
      "100% (10 of 10) |##########################| Elapsed Time: 0:00:01 Time: 0:00:01\n",
      "\n",
      "exact\tTP\tFP\tTN\tFN\n",
      "micro-average\t340.0\t8.0\t0.0\t105.0\n",
      "Age\t63.0\t2.0\t0.0\t29.0\n",
      "DateTime\t91.0\t2.0\t0.0\t33.0\n",
      "HCUnit\t61.0\t4.0\t0.0\t15.0\n",
      "OtherID\t7.0\t0.0\t0.0\t0.0\n",
      "OtherLoc\t1.0\t0.0\t0.0\t4.0\n",
      "OtherOrg\t18.0\t0.0\t0.0\t3.0\n",
      "Patient\t16.0\t0.0\t0.0\t3.0\n",
      "PhoneFax\t5.0\t0.0\t0.0\t1.0\n",
      "Provider\t54.0\t0.0\t0.0\t10.0\n",
      "StateCountry\t14.0\t0.0\t0.0\t7.0\n",
      "StreetCity\t4.0\t0.0\t0.0\t0.0\n",
      "Zip\t4.0\t0.0\t0.0\t0.0\n",
      "eAddress\t2.0\t0.0\t0.0\t0.0\n"
     ]
    }
   ],
   "source": [
    "!python etude.py \\\n",
    "    --reference-input tests/data/i2b2_2016_track-1_reference \\\n",
    "    --test-input tests/data/i2b2_2016_track-1_test \\\n",
    "    --by-type\n"
   ]
  },
  {
   "cell_type": "code",
   "execution_count": 17,
   "metadata": {},
   "outputs": [
    {
     "name": "stdout",
     "output_type": "stream",
     "text": [
      "100% (10 of 10) |##########################| Elapsed Time: 0:00:01 Time: 0:00:01\n",
      "\n",
      "exact\tTP\tFP\tTN\tFN\n",
      "micro-average\t341.0\t7.0\t0.0\t104.0\n",
      "Address\t22.0\t0.0\t0.0\t7.0\n",
      "Contact Information\t7.0\t0.0\t0.0\t1.0\n",
      "Identifiers\t7.0\t0.0\t0.0\t0.0\n",
      "Locations\t80.0\t4.0\t0.0\t22.0\n",
      "Names\t70.0\t0.0\t0.0\t13.0\n",
      "Time\t155.0\t3.0\t0.0\t61.0\n"
     ]
    }
   ],
   "source": [
    "!python etude.py \\\n",
    "    --reference-input tests/data/i2b2_2016_track-1_reference \\\n",
    "    --test-input tests/data/i2b2_2016_track-1_test \\\n",
    "    --by-type \\\n",
    "    --score-key \"Parent\""
   ]
  },
  {
   "cell_type": "code",
   "execution_count": 18,
   "metadata": {},
   "outputs": [
    {
     "name": "stdout",
     "output_type": "stream",
     "text": [
      "100% (10 of 10) |##########################| Elapsed Time: 0:00:01 Time: 0:00:01\n",
      "\n",
      "exact\tTP\tFP\tTN\tFN\n",
      "micro-average\t340.0\t8.0\t0.0\t105.0\n",
      "Age Greater than 89\t63.0\t2.0\t0.0\t29.0\n",
      "Date and Time Information\t91.0\t2.0\t0.0\t33.0\n",
      "Electronic Address Information\t2.0\t0.0\t0.0\t0.0\n",
      "Health Care Provider Name\t54.0\t0.0\t0.0\t10.0\n",
      "Health Care Unit Name\t61.0\t4.0\t0.0\t15.0\n",
      "Other ID Numbers\t7.0\t0.0\t0.0\t0.0\n",
      "Other Locations\t1.0\t0.0\t0.0\t4.0\n",
      "Other Organization Name\t18.0\t0.0\t0.0\t3.0\n",
      "Patient Name\t16.0\t0.0\t0.0\t3.0\n",
      "Phone, Fax, or Pager Number\t5.0\t0.0\t0.0\t1.0\n",
      "State or Country\t14.0\t0.0\t0.0\t7.0\n",
      "Street City Name\t4.0\t0.0\t0.0\t0.0\n",
      "ZIP Code\t4.0\t0.0\t0.0\t0.0\n"
     ]
    }
   ],
   "source": [
    "!python etude.py \\\n",
    "    --reference-input tests/data/i2b2_2016_track-1_reference \\\n",
    "    --test-input tests/data/i2b2_2016_track-1_test \\\n",
    "    --by-type \\\n",
    "    --score-key \"Long Name\""
   ]
  },
  {
   "cell_type": "markdown",
   "metadata": {},
   "source": [
    "Testing\n",
    "=====\n",
    "\n",
    "Unit testing is done with the pytest module.\n",
    "Because of a bug in how tests are processed in Python 2.7, you should run pytest indirectly rather than directly.\n",
    "An [HTML-formatted coverage guide](../htmlcov/index.html) will be generated locally under the directory containing this code."
   ]
  },
  {
   "cell_type": "code",
   "execution_count": 20,
   "metadata": {},
   "outputs": [
    {
     "name": "stdout",
     "output_type": "stream",
     "text": [
      "\u001b[1m============================= test session starts ==============================\u001b[0m\n",
      "platform darwin -- Python 2.7.13, pytest-3.1.1, py-1.4.34, pluggy-0.4.0\n",
      "rootdir: /Users/pmh/git/etude, inifile:\n",
      "plugins: cov-2.5.1\n",
      "collected 107 items \u001b[0m\u001b[1m1m\u001b[1m\n",
      "\u001b[0m\n",
      "tests/test_args_and_configs.py ..................\n",
      "tests/test_etude.py .......\n",
      "tests/test_scoring_metrics.py ...............................................................\n",
      "tests/test_text_extraction.py ...................\n",
      "\n",
      "---------- coverage: platform darwin, python 2.7.13-final-0 ----------\n",
      "Coverage HTML written to dir htmlcov\n",
      "\n",
      "\n",
      "\u001b[32m\u001b[1m========================== 107 passed in 3.50 seconds ==========================\u001b[0m\n"
     ]
    }
   ],
   "source": [
    "!python -m pytest --cov-report html --cov=./ tests"
   ]
  },
  {
   "cell_type": "markdown",
   "metadata": {},
   "source": [
    "<html/index.html>"
   ]
  },
  {
   "cell_type": "code",
   "execution_count": null,
   "metadata": {
    "collapsed": true
   },
   "outputs": [],
   "source": []
  }
 ],
 "metadata": {
  "kernelspec": {
   "display_name": "Python 2",
   "language": "python",
   "name": "python2"
  },
  "language_info": {
   "codemirror_mode": {
    "name": "ipython",
    "version": 2
   },
   "file_extension": ".py",
   "mimetype": "text/x-python",
   "name": "python",
   "nbconvert_exporter": "python",
   "pygments_lexer": "ipython2",
   "version": "2.7.13"
  }
 },
 "nbformat": 4,
 "nbformat_minor": 2
}
